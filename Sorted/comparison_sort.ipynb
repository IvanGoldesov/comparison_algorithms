{
 "cells": [
  {
   "cell_type": "code",
   "execution_count": 2,
   "metadata": {},
   "outputs": [],
   "source": [
    "import matplotlib.pyplot as plt\n",
    "import numpy as np\n",
    "from .bubble_sort import bubble_sort\n",
    "from .change_sort import change_sort\n",
    "from .insertion_sort import insertion_sort\n",
    "from .merge_sort import split_merge_matrix\n",
    "from .quick_sort_Hoara import quick_sort_Hoara\n",
    "from .quick_sort import quick_sort"
   ]
  },
  {
   "cell_type": "markdown",
   "metadata": {},
   "source": []
  },
  {
   "cell_type": "code",
   "execution_count": 3,
   "metadata": {},
   "outputs": [],
   "source": [
    "x = [10, 100, 1000, 10000, 100000, 1000000]\n",
    "a, b, c, d, e, f = [np.random.randint(-10**i, 10**i, 10**i) for i in range(1, 7)]"
   ]
  },
  {
   "cell_type": "code",
   "execution_count": 4,
   "metadata": {},
   "outputs": [],
   "source": [
    "time_bubble = []\n",
    "time_change = []\n",
    "time_insertion = []\n",
    "time_merge = []\n",
    "time_quickHoara = []\n",
    "time_quick = []"
   ]
  },
  {
   "cell_type": "code",
   "execution_count": null,
   "metadata": {},
   "outputs": [],
   "source": []
  }
 ],
 "metadata": {
  "kernelspec": {
   "display_name": ".venv",
   "language": "python",
   "name": "python3"
  },
  "language_info": {
   "codemirror_mode": {
    "name": "ipython",
    "version": 3
   },
   "file_extension": ".py",
   "mimetype": "text/x-python",
   "name": "python",
   "nbconvert_exporter": "python",
   "pygments_lexer": "ipython3",
   "version": "3.9.7"
  }
 },
 "nbformat": 4,
 "nbformat_minor": 2
}
